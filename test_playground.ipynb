{
 "cells": [
  {
   "cell_type": "code",
   "execution_count": 1,
   "id": "91c54866-037e-47d0-8684-9457c61678a8",
   "metadata": {},
   "outputs": [],
   "source": [
    "import requests\n",
    "import json\n",
    "import base64\n",
    "import sqlite3\n",
    "import datetime"
   ]
  },
  {
   "cell_type": "code",
   "execution_count": 54,
   "id": "bcd51b37-9f4e-4802-9cf1-16a9309327a7",
   "metadata": {},
   "outputs": [],
   "source": [
    "def encode_image_to_base64(image_path):\n",
    "    with open(image_path, 'rb') as image_file:\n",
    "        encoded_string = base64.b64encode(image_file.read()).decode('utf-8')\n",
    "    return encoded_string\n",
    "\n",
    "s = encode_image_to_base64(r'D:\\8.png')\n",
    "time = str(datetime.datetime.now())\n",
    "image = s\n"
   ]
  },
  {
   "cell_type": "code",
   "execution_count": 55,
   "id": "2d92dc92-850b-493d-9b0c-c2c41747bcff",
   "metadata": {},
   "outputs": [],
   "source": [
    "conn = sqlite3.connect(r'C:\\Users\\darkn\\PycharmProjects\\flask-atlantis-dark-master\\apps\\history.db')\n",
    "cursor = conn.cursor()\n",
    "\n",
    "cursor.execute(\"INSERT INTO 'Hansen-image' (id, hansen_id, image, time) VALUES (?, ?, ?, ?)\", (9, 3, image, time))\n",
    "conn.commit()\n",
    "\n",
    "cursor.close()\n",
    "conn.close()"
   ]
  },
  {
   "cell_type": "code",
   "execution_count": 8,
   "id": "e55b239d-df11-4a04-9b07-3dd8af93d5cc",
   "metadata": {},
   "outputs": [],
   "source": [
    "conn = sqlite3.connect(r'C:\\Users\\shibi\\PycharmProjects\\chem-robot-ml-interface\\apps\\history.db')\n",
    "cursor = conn.cursor()\n",
    "\n",
    "time = str(datetime.datetime.now())\n",
    "\n",
    "cursor.execute(\"INSERT INTO 'Hansen' (id, time, sample_number) VALUES (?, ?, ?)\", (3, time, 5))\n",
    "\n",
    "conn.commit()\n",
    "\n",
    "cursor.close()\n",
    "conn.close()"
   ]
  },
  {
   "cell_type": "code",
   "execution_count": 2,
   "id": "5284df78-95c2-4a06-adc0-bad55240173b",
   "metadata": {},
   "outputs": [],
   "source": [
    "conn = sqlite3.connect(r'C:\\Users\\darkn\\PycharmProjects\\flask-atlantis-dark-master\\apps\\history.db')\n",
    "cursor = conn.cursor()\n",
    "\n",
    "for i in range(1, 6):\n",
    "    for j in range(1, 17):\n",
    "        cursor.execute(\"INSERT INTO 'Rack-availability' (row, col, available) VALUES (?, ?, ?)\", (i, j, 0))\n",
    "\n",
    "conn.commit()\n",
    "\n",
    "cursor.close()\n",
    "conn.close()"
   ]
  }
 ],
 "metadata": {
  "kernelspec": {
   "display_name": "Python 3",
   "language": "python",
   "name": "python3"
  },
  "language_info": {
   "codemirror_mode": {
    "name": "ipython",
    "version": 3
   },
   "file_extension": ".py",
   "mimetype": "text/x-python",
   "name": "python",
   "nbconvert_exporter": "python",
   "pygments_lexer": "ipython3",
   "version": "3.8.8"
  }
 },
 "nbformat": 4,
 "nbformat_minor": 5
}
