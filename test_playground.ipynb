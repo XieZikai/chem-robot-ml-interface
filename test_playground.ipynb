{
 "cells": [
  {
   "cell_type": "code",
   "execution_count": 14,
   "id": "91c54866-037e-47d0-8684-9457c61678a8",
   "metadata": {},
   "outputs": [],
   "source": [
    "import requests\n",
    "import json\n",
    "import base64\n",
    "import sqlite3\n",
    "import datetime"
   ]
  },
  {
   "cell_type": "code",
   "execution_count": 9,
   "id": "27aae993-b44d-4d9c-82b1-7a192de02192",
   "metadata": {},
   "outputs": [],
   "source": [
    "conn = sqlite3.connect(r'C:\\Users\\darkn\\PycharmProjects\\flask-atlantis-dark-master\\apps\\history.db')\n",
    "cursor = conn.cursor()"
   ]
  },
  {
   "cell_type": "code",
   "execution_count": 23,
   "id": "2d92dc92-850b-493d-9b0c-c2c41747bcff",
   "metadata": {},
   "outputs": [
    {
     "data": {
      "text/plain": [
       "<sqlite3.Cursor at 0x1f6f91a3420>"
      ]
     },
     "execution_count": 23,
     "metadata": {},
     "output_type": "execute_result"
    }
   ],
   "source": [
    "cursor.execute(\"INSERT INTO 'Hansen-image' (id, hansen_id, image, time) VALUES (?, ?, ?, ?)\", (1, 1, image, time))"
   ]
  },
  {
   "cell_type": "code",
   "execution_count": 24,
   "id": "e55b239d-df11-4a04-9b07-3dd8af93d5cc",
   "metadata": {},
   "outputs": [],
   "source": [
    "conn.commit()\n",
    "\n",
    "cursor.close()\n",
    "conn.close()"
   ]
  },
  {
   "cell_type": "code",
   "execution_count": 10,
   "id": "ca5aa2ae-c38a-4c86-9ec9-227f05c2f320",
   "metadata": {},
   "outputs": [],
   "source": [
    "def encode_image_to_base64(image_path):\n",
    "    with open(image_path, 'rb') as image_file:\n",
    "        encoded_string = base64.b64encode(image_file.read()).decode('utf-8')\n",
    "    return encoded_string\n",
    "\n",
    "\n",
    "s = encode_image_to_base64(r'D:\\Weixin Image_20240326150046.jpg')"
   ]
  },
  {
   "cell_type": "code",
   "execution_count": 21,
   "id": "8884a29a-1491-4968-8201-fb8cf120b636",
   "metadata": {},
   "outputs": [],
   "source": [
    "time = str(datetime.datetime.now())\n",
    "image = s\n"
   ]
  }
 ],
 "metadata": {
  "kernelspec": {
   "display_name": "Python 3",
   "language": "python",
   "name": "python3"
  },
  "language_info": {
   "codemirror_mode": {
    "name": "ipython",
    "version": 3
   },
   "file_extension": ".py",
   "mimetype": "text/x-python",
   "name": "python",
   "nbconvert_exporter": "python",
   "pygments_lexer": "ipython3",
   "version": "3.8.8"
  }
 },
 "nbformat": 4,
 "nbformat_minor": 5
}
