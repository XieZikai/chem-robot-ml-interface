{
 "cells": [
  {
   "cell_type": "code",
   "execution_count": 1,
   "id": "91c54866-037e-47d0-8684-9457c61678a8",
   "metadata": {},
   "outputs": [],
   "source": [
    "import requests\n",
    "import json\n",
    "import base64\n",
    "import sqlite3\n",
    "import datetime"
   ]
  },
  {
   "cell_type": "code",
   "execution_count": 54,
   "id": "bcd51b37-9f4e-4802-9cf1-16a9309327a7",
   "metadata": {},
   "outputs": [],
   "source": [
    "def encode_image_to_base64(image_path):\n",
    "    with open(image_path, 'rb') as image_file:\n",
    "        encoded_string = base64.b64encode(image_file.read()).decode('utf-8')\n",
    "    return encoded_string\n",
    "\n",
    "s = encode_image_to_base64(r'D:\\8.png')\n",
    "time = str(datetime.datetime.now())\n",
    "image = s\n"
   ]
  },
  {
   "cell_type": "code",
   "execution_count": 55,
   "id": "2d92dc92-850b-493d-9b0c-c2c41747bcff",
   "metadata": {},
   "outputs": [],
   "source": [
    "conn = sqlite3.connect(r'C:\\Users\\darkn\\PycharmProjects\\flask-atlantis-dark-master\\apps\\history.db')\n",
    "cursor = conn.cursor()\n",
    "\n",
    "cursor.execute(\"INSERT INTO 'Hansen-image' (id, hansen_id, image, time) VALUES (?, ?, ?, ?)\", (9, 3, image, time))\n",
    "conn.commit()\n",
    "\n",
    "cursor.close()\n",
    "conn.close()"
   ]
  },
  {
   "cell_type": "code",
   "execution_count": 8,
   "id": "e55b239d-df11-4a04-9b07-3dd8af93d5cc",
   "metadata": {},
   "outputs": [],
   "source": [
    "conn = sqlite3.connect(r'C:\\Users\\shibi\\PycharmProjects\\chem-robot-ml-interface\\apps\\history.db')\n",
    "cursor = conn.cursor()\n",
    "\n",
    "time = str(datetime.datetime.now())\n",
    "\n",
    "cursor.execute(\"INSERT INTO 'Hansen' (id, time, sample_number) VALUES (?, ?, ?)\", (3, time, 5))\n",
    "\n",
    "conn.commit()\n",
    "\n",
    "cursor.close()\n",
    "conn.close()"
   ]
  },
  {
   "cell_type": "code",
   "execution_count": 2,
   "id": "5284df78-95c2-4a06-adc0-bad55240173b",
   "metadata": {},
   "outputs": [],
   "source": [
    "conn = sqlite3.connect(r'C:\\Users\\darkn\\PycharmProjects\\flask-atlantis-dark-master\\apps\\history.db')\n",
    "cursor = conn.cursor()\n",
    "\n",
    "for i in range(1, 6):\n",
    "    for j in range(1, 17):\n",
    "        cursor.execute(\"INSERT INTO 'Rack-availability' (row, col, available) VALUES (?, ?, ?)\", (i, j, 0))\n",
    "\n",
    "conn.commit()\n",
    "\n",
    "cursor.close()\n",
    "conn.close()"
   ]
  },
  {
   "cell_type": "code",
   "execution_count": 3,
   "id": "b7852caa-7e04-4b02-a419-b7680b089358",
   "metadata": {},
   "outputs": [],
   "source": [
    "import cv2\n",
    "import base64\n",
    "\n",
    "# 读取图像，这里假设img是一个cv2.typing.MatLike格式的图像\n",
    "img = cv2.imread(r'D:\\8.png')"
   ]
  },
  {
   "cell_type": "code",
   "execution_count": 4,
   "id": "1a676c77-6544-4321-97d2-202d6b08e681",
   "metadata": {},
   "outputs": [
    {
     "data": {
      "text/plain": [
       "numpy.ndarray"
      ]
     },
     "execution_count": 4,
     "metadata": {},
     "output_type": "execute_result"
    }
   ],
   "source": [
    "type(img)"
   ]
  },
  {
   "cell_type": "code",
   "execution_count": 6,
   "id": "632661ab-b60f-46c2-9a72-f2e7edf0d03b",
   "metadata": {},
   "outputs": [
    {
     "data": {
      "text/plain": [
       "[(1, 4, 'samp1', 1, 5, 0), (2, 4, 'samp2', 1, 9, 0), (3, 4, 'samp3', 2, 8, 0)]"
      ]
     },
     "execution_count": 6,
     "metadata": {},
     "output_type": "execute_result"
    }
   ],
   "source": [
    "conn = sqlite3.connect(r'C:\\Users\\darkn\\PycharmProjects\\flask-atlantis-dark-master\\apps\\history.db')\n",
    "cursor = conn.cursor()\n",
    "\n",
    "cursor.execute(\"SELECT * FROM 'Hansen-samples'\")\n",
    "data = cursor.fetchall()\n",
    "data"
   ]
  },
  {
   "cell_type": "code",
   "execution_count": 9,
   "id": "f121ad4f-448e-4288-9cd5-d707cae6ced7",
   "metadata": {},
   "outputs": [
    {
     "data": {
      "text/plain": [
       "4"
      ]
     },
     "execution_count": 9,
     "metadata": {},
     "output_type": "execute_result"
    }
   ],
   "source": [
    "data[0][4] -1"
   ]
  }
 ],
 "metadata": {
  "kernelspec": {
   "display_name": "Python 3",
   "language": "python",
   "name": "python3"
  },
  "language_info": {
   "codemirror_mode": {
    "name": "ipython",
    "version": 3
   },
   "file_extension": ".py",
   "mimetype": "text/x-python",
   "name": "python",
   "nbconvert_exporter": "python",
   "pygments_lexer": "ipython3",
   "version": "3.8.8"
  }
 },
 "nbformat": 4,
 "nbformat_minor": 5
}
